import pandas as pd
import numpy as np
import matplotlib.pyplot as plt
import seaborn as sns
import scipy.stats as stats

# Cargar el archivo CSV
df = pd.read_csv('/ResultadosSabanetaSaber11.csv')

# Mostrar información general
print('Información del dataset:')
print(df.info())

# Visualizar las primeras filas
print('\nPrimeras filas:')
print(df.head())

# Estadísticas descriptivas
print('\nEstadísticas descriptivas:')
print(df.describe())

print(df.isnull().sum())

# Rellenar valores nulos con la media de cada columna numérica
df.fillna(df.mean(numeric_only=True), inplace=True)

# Confirmar que no quedan nulos
print('\nValores nulos tras la imputación:')
print(df.isnull().sum())

columnas_puntajes = [
    'Resultado'
]

# Lista de indicadores a graficar
indicadores_filtrados = [
    'Establecimiento Educativo (EE)',
    'Promedio Matematicas',
    'Promedio Lectura Critica'
]


# Histograma
for indicador in indicadores_filtrados:
    df_indicador = df[df['Indicador'] == indicador]
    plt.figure(figsize=(8, 4))
    sns.histplot(df_indicador['Resultado'], kde=True, bins=30)
    plt.title(f'Distribución de Resultado para {indicador}')
    plt.xlabel('Resultado')
    plt.ylabel('Frecuencia')
    plt.show()

# Box plot
for indicador in indicadores_filtrados:
    df_indicador = df[df['Indicador'] == indicador]
    plt.figure(figsize=(8, 4))
    sns.boxplot(x=df_indicador['Resultado'])
    plt.title(f'Box plot de Resultado para {indicador}')
    plt.xlabel('Resultado')
    plt.show()


def graficar_qq(datos, nombre):
    plt.figure(figsize=(6, 6))
    stats.probplot(datos, dist="norm", plot=plt)
    plt.title(f"Gráfico Q-Q para {nombre}")
    plt.xlabel("Cuantiles teóricos")
    plt.ylabel("Cuantiles observados")
    plt.grid(True)
    plt.show()

# QQ plot
for indicador in indicadores_filtrados:
    df_indicador = df[df['Indicador'] == indicador]
    graficar_qq(df_indicador['Resultado'].dropna(), f"Resultado para {indicador}")


# Identificar los indicadores restantes
indicadores_restantes = df['Indicador'].unique().tolist()
for indicador in indicadores_filtrados:
    if indicador in indicadores_restantes:
        indicadores_restantes.remove(indicador)

print("\nIndicadores restantes para graficar:")
print(indicadores_restantes)

# Generar diagramas de torta y barras para los indicadores restantes
for indicador in indicadores_restantes:
    df_indicador = df[df['Indicador'] == indicador]
    resultado_counts = df_indicador['Resultado'].value_counts()

    # Diagrama de torta
    plt.figure(figsize=(8, 8))
    plt.pie(resultado_counts, labels=resultado_counts.index, autopct='%1.1f%%', startangle=140)
    plt.title(f'Distribución de Resultado para {indicador}')
    plt.axis('equal')
    plt.show()

    # Diagrama de barras
    plt.figure(figsize=(10, 6))
    sns.countplot(data=df_indicador, x='Resultado', order=resultado_counts.index)
    plt.title(f'Conteo de Resultado para {indicador}')
    plt.xlabel('Resultado')
    plt.ylabel('Conteo')
    plt.xticks(rotation=90)
    plt.show()

    indicadores_filtrados = [
    'Establecimiento Educativo (EE)',
    'Promedio Matematicas',
    'Promedio Lectura Critica'
]

outlier_bounds = {}

for indicador in indicadores_filtrados:
    df_indicador = df[df['Indicador'] == indicador]['Resultado'].dropna()
    Q1 = df_indicador.quantile(0.25)
    Q3 = df_indicador.quantile(0.75)
    IQR = Q3 - Q1
    lower_bound = Q1 - 1.5 * IQR
    upper_bound = Q3 + 1.5 * IQR
    outlier_bounds[indicador] = (lower_bound, upper_bound)

    print(f"Indicador: {indicador}")
    print(f"  Q1: {Q1}")
    print(f"  Q3: {Q3}")
    print(f"  IQR: {IQR}")
    print(f"  Lower Bound: {lower_bound}")
    print(f"  Upper Bound: {upper_bound}")
    print("-" * 20)

    df_filtered = pd.DataFrame()

for indicador in indicadores_filtrados:
    lower_bound, upper_bound = outlier_bounds[indicador]
    df_indicador_filtered = df[(df['Indicador'] == indicador) &
                               (df['Resultado'] >= lower_bound) &
                               (df['Resultado'] <= upper_bound)].copy()
    df_filtered = pd.concat([df_filtered, df_indicador_filtered])

df_remaining = df[~df['Indicador'].isin(indicadores_filtrados)].copy()

df = pd.concat([df_filtered, df_remaining])

print("DataFrame after removing outliers and combining with remaining data:")
print(df.info())

for indicador in indicadores_filtrados:
    df_indicador = df[df['Indicador'] == indicador]
    plt.figure(figsize=(8, 4))
    sns.histplot(df_indicador['Resultado'], kde=True, bins=30)
    plt.title(f'Distribución de Resultado para {indicador} (sin atípicos)')
    plt.xlabel('Resultado')
    plt.ylabel('Frecuencia')
    plt.show()


from scipy import stats

indicadores_filtrados = [
    'Establecimiento Educativo (EE)',
    'Promedio Matematicas',
    'Promedio Lectura Critica'
]

for indicador in indicadores_filtrados:
    df_indicador = df[df['Indicador'] == indicador]['Resultado'].dropna()

    print(f"--- Tests de Normalidad para {indicador} ---")

    # Shapiro-Wilk test
    shapiro_test = stats.shapiro(df_indicador)
    print(f"Shapiro-Wilk Test: Statistic={shapiro_test.statistic:.4f}, p-value={shapiro_test.pvalue:.4f}")

    # Anderson-Darling test
    anderson_test = stats.anderson(df_indicador, dist='norm')
    print(f"Anderson-Darling Test: Statistic={anderson_test.statistic:.4f}")
    for i in range(len(anderson_test.critical_values)):
        sl, cv = anderson_test.significance_level[i], anderson_test.critical_values[i]
        if anderson_test.statistic < cv:
            print(f'At a {sl}% significance level, the data looks normal (critical value {cv:.4f})')
        else:
            print(f'At a {sl}% significance level, the data does not look normal (critical value {cv:.4f})')

    # Jarque-Bera test
    try:
        jarque_bera_test = stats.jarque_bera(df_indicador)
        print(f"Jarque-Bera Test: Statistic={jarque_bera_test.statistic:.4f}, p-value={jarque_bera_test.pvalue:.4f}")
    except ValueError as e:
        print(f"Jarque-Bera Test could not be performed: {e}")


    # QQ plot
    plt.figure(figsize=(6, 6))
    stats.probplot(df_indicador, dist="norm", plot=plt)
    plt.title(f"Gráfico Q-Q para Resultado de {indicador} (sin atípicos)")
    plt.xlabel("Cuantiles teóricos")
    plt.ylabel("Cuantiles observados")
    plt.grid(True)
    plt.show()

    print("-" * 40)
